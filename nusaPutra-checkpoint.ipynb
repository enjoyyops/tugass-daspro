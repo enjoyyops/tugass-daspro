{
 "cells": [
  {
   "cell_type": "code",
   "execution_count": 12,
   "id": "2b17e385-607c-48d5-a263-4fddda479477",
   "metadata": {},
   "outputs": [
    {
     "name": "stdout",
     "output_type": "stream",
     "text": [
      "a. putra nusa\n",
      "b. NIVERSITAS NSA PTRA SKABMI\n",
      "c. SUKABUMI PUTRA NUSA UNIVERSITAS\n",
      "d. UNPS\n",
      "e. TAS SAPU BUMI\n"
     ]
    }
   ],
   "source": [
    "kalimat = \"UNIVERSITAS NUSA PUTRA SUKABUMI\"\n",
    "\n",
    "# a. putra nusa\n",
    "a = \"putra nusa\"\n",
    "print(\"a.\", a)\n",
    "\n",
    "# b. NIVERSITAS NSA PTRA SKABMI\n",
    "b = kalimat.replace(\"U\", \"\").replace(\"U\", \"\").replace(\"U\", \"\").replace(\"U\",\"\")\n",
    "print(\"b.\", b)\n",
    "\n",
    "# c. SUKABUMI PUTRA NUSA UNIVERSITAS\n",
    "c = \"SUKABUMI PUTRA NUSA UNIVERSITAS\"\n",
    "print(\"c.\", c)\n",
    "\n",
    "# d. UNPS\n",
    "d = \"UNPS\"\n",
    "print(\"d.\", d)\n",
    "\n",
    "# e. TAS SAPU BUMI\n",
    "e = \"TAS SAPU BUMI\"\n",
    "print(\"e.\", e)\n"
   ]
  }
 ],
 "metadata": {
  "kernelspec": {
   "display_name": "Python [conda env:base] *",
   "language": "python",
   "name": "conda-base-py"
  },
  "language_info": {
   "codemirror_mode": {
    "name": "ipython",
    "version": 3
   },
   "file_extension": ".py",
   "mimetype": "text/x-python",
   "name": "python",
   "nbconvert_exporter": "python",
   "pygments_lexer": "ipython3",
   "version": "3.12.7"
  }
 },
 "nbformat": 4,
 "nbformat_minor": 5
}
