{
 "cells": [
  {
   "cell_type": "code",
   "execution_count": null,
   "id": "12b18184-752b-4590-be09-3121b2cbdfa9",
   "metadata": {},
   "outputs": [],
   "source": [
    "#Biodata \n",
    "\n",
    "Nama_Lengkap = input(\"Masukkan nama lengkap Anda: \")\n",
    "Nim = input(\"Masukkan nim anda: \")\n",
    "Jenis_Kelamin = input(\"Masukkan jenis kelamin anda: \")\n",
    "TTL = input(\"Masukkan Tempat Tanggal Lahir Anda: \")\n",
    "Alamat = input(\"Masukkan alamat Anda: \")\n",
    "Agama = input(\"Masukkan agama anda: \")\n",
    "Hobi = input(\"Masukkan hobi Anda: \")\n",
    "Status = input(\"Masukan status Anda: \")\n",
    "\n",
    "biodata = \"Nama_Lengkap: {}\\nNim: {}\\nJenis_Kelamin: {}\\nTTL: {}\\nAlamat: {}\\nAgama: {}\\nHobi: {}\\nStatus: {}\".format(Nama_Lengkap, Nim, Jenis_Kelamin, TTL, Alamat, Agama, Hobi, Status)\n",
    "\n",
    "print(\"\\nBIODATA:\")\n",
    "print(biodata)"
   ]
  }
 ],
 "metadata": {
  "kernelspec": {
   "display_name": "Python [conda env:base] *",
   "language": "python",
   "name": "conda-base-py"
  },
  "language_info": {
   "codemirror_mode": {
    "name": "ipython",
    "version": 3
   },
   "file_extension": ".py",
   "mimetype": "text/x-python",
   "name": "python",
   "nbconvert_exporter": "python",
   "pygments_lexer": "ipython3",
   "version": "3.12.7"
  }
 },
 "nbformat": 4,
 "nbformat_minor": 5
}
